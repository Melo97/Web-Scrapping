{
 "cells": [
  {
   "cell_type": "markdown",
   "id": "d6260cf3-f9c1-48d6-aeaf-2c541624a998",
   "metadata": {},
   "source": [
    "# Movie Crawler Website"
   ]
  },
  {
   "cell_type": "code",
   "execution_count": 1,
   "id": "7bb48a31",
   "metadata": {},
   "outputs": [],
   "source": [
    "import pandas as pd\n",
    "import numpy as np\n",
    "import requests\n",
    "from bs4 import BeautifulSoup"
   ]
  },
  {
   "cell_type": "markdown",
   "id": "758f9d4c-1308-41d8-917b-e957a74f1190",
   "metadata": {},
   "source": [
    "## 1. Extraíndo filmes da página atual"
   ]
  },
  {
   "cell_type": "code",
   "execution_count": 2,
   "id": "6063d7ca-d301-4b27-b3b6-4adcfdc306f9",
   "metadata": {},
   "outputs": [
    {
     "ename": "NameError",
     "evalue": "name 'data' is not defined",
     "output_type": "error",
     "traceback": [
      "\u001b[1;31m---------------------------------------------------------------------------\u001b[0m",
      "\u001b[1;31mNameError\u001b[0m                                 Traceback (most recent call last)",
      "Cell \u001b[1;32mIn[2], line 41\u001b[0m\n\u001b[0;32m     38\u001b[0m         temp_df \u001b[38;5;241m=\u001b[39m pd\u001b[38;5;241m.\u001b[39mDataFrame(data \u001b[38;5;241m=\u001b[39m {\u001b[38;5;124m'\u001b[39m\u001b[38;5;124mTitle\u001b[39m\u001b[38;5;124m'\u001b[39m: [title\u001b[38;5;241m.\u001b[39msplit(\u001b[38;5;124m'\u001b[39m\u001b[38;5;124m -\u001b[39m\u001b[38;5;124m'\u001b[39m)[\u001b[38;5;241m0\u001b[39m]], \u001b[38;5;124m'\u001b[39m\u001b[38;5;124mScript\u001b[39m\u001b[38;5;124m'\u001b[39m: [script\u001b[38;5;241m.\u001b[39msplit(\u001b[38;5;124m'\u001b[39m\u001b[38;5;124m---\u001b[39m\u001b[38;5;124m'\u001b[39m,\u001b[38;5;241m1\u001b[39m)[\u001b[38;5;241m1\u001b[39m]]})\n\u001b[0;32m     40\u001b[0m         dataframe \u001b[38;5;241m=\u001b[39m pd\u001b[38;5;241m.\u001b[39mconcat([dataframe, temp_df], axis \u001b[38;5;241m=\u001b[39m \u001b[38;5;241m0\u001b[39m,  ignore_index \u001b[38;5;241m=\u001b[39m \u001b[38;5;28;01mTrue\u001b[39;00m)\n\u001b[1;32m---> 41\u001b[0m \u001b[43mdata\u001b[49m\n",
      "\u001b[1;31mNameError\u001b[0m: name 'data' is not defined"
     ]
    }
   ],
   "source": [
    "#Objetos\n",
    "user_agent = 'Mozilla/5.0 (Linux; Android 6.0; Nexus 5 Build/MRA58N) AppleWebKit/537.36 (KHTML, like Gecko) Chrome/126.0.0.0 Mobile Safari/537.36'\n",
    "headers = {'User-Agent': user_agent}\n",
    "#links\n",
    "url = 'https://subslikescript.com'\n",
    "listagem = f'{url}/movies'\n",
    "\n",
    "# Coletando site\n",
    "html_site = requests.get(listagem, headers = headers)\n",
    "saida = BeautifulSoup(html_site.text, 'html.parser')\n",
    "\n",
    "# Extraíndo links das páginas:\n",
    "caixa =  saida.find('ul', class_ = 'scripts-list')\n",
    "hiperlinks = caixa.find_all('a', href = True)\n",
    "\n",
    "#Gravando path completo:\n",
    "links = [url + a['href'] for a in hiperlinks]\n",
    "\n",
    "#Inicializando dict\n",
    "dataframe = pd.DataFrame(columns = ['Title', 'Script'])\n",
    "\n",
    "#Scrapping sites\n",
    "for url_hiperlink in links:\n",
    "    # Obtendo html de cada site\n",
    "    try:\n",
    "        result  = requests.get(url = url_hiperlink, headers = headers)\n",
    "        result = result.text\n",
    "        \n",
    "    except Exception as e:\n",
    "        print(f'Falha na coleta em \\n{url_hiperlink}')\n",
    "        print(f'Erro: {e}')\n",
    "    else:\n",
    "        soup = BeautifulSoup(result, 'lxml')\n",
    "        title = soup.find('article', class_ = 'main-article').find('h1').get_text(strip = True)\n",
    "        script = soup.find('div', class_ = 'full-script').get_text(strip=True, separator = ' ')\n",
    "        temp_df = pd.DataFrame(data = {'Title': [title.split(' -')[0]], 'Script': [script.split('---',1)[1]]})\n",
    "\n",
    "        dataframe = pd.concat([dataframe, temp_df], axis = 0,  ignore_index = True)"
   ]
  },
  {
   "cell_type": "markdown",
   "id": "e75551d1-7311-45e2-9a8d-928adb3f1f25",
   "metadata": {},
   "source": [
    "## 2. Com Paginação"
   ]
  },
  {
   "cell_type": "code",
   "execution_count": 29,
   "id": "6eb36a7f-4519-44c7-bea2-58a6a7f98f2d",
   "metadata": {},
   "outputs": [
    {
     "ename": "KeyboardInterrupt",
     "evalue": "Interrupted by user",
     "output_type": "error",
     "traceback": [
      "\u001b[1;31m---------------------------------------------------------------------------\u001b[0m",
      "\u001b[1;31mKeyboardInterrupt\u001b[0m                         Traceback (most recent call last)",
      "Cell \u001b[1;32mIn[29], line 4\u001b[0m\n\u001b[0;32m      2\u001b[0m letra \u001b[38;5;241m=\u001b[39m \u001b[38;5;124m'\u001b[39m\u001b[38;5;124maux variable\u001b[39m\u001b[38;5;124m'\u001b[39m\n\u001b[0;32m      3\u001b[0m \u001b[38;5;28;01mwhile\u001b[39;00m \u001b[38;5;28mlen\u001b[39m(letra) \u001b[38;5;241m!=\u001b[39m \u001b[38;5;241m1\u001b[39m:\n\u001b[1;32m----> 4\u001b[0m     letra \u001b[38;5;241m=\u001b[39m \u001b[38;5;28;43minput\u001b[39;49m\u001b[43m(\u001b[49m\u001b[38;5;124;43m'\u001b[39;49m\u001b[38;5;124;43mEscolha a letra inicial dos filmes (A-Z) que quer coletar:\u001b[39;49m\u001b[38;5;130;43;01m\\n\u001b[39;49;00m\u001b[38;5;124;43m'\u001b[39;49m\u001b[43m)\u001b[49m\n\u001b[0;32m      6\u001b[0m url \u001b[38;5;241m=\u001b[39m \u001b[38;5;124m'\u001b[39m\u001b[38;5;124mhttps://subslikescript.com\u001b[39m\u001b[38;5;124m'\u001b[39m\n\u001b[0;32m      7\u001b[0m listagem \u001b[38;5;241m=\u001b[39m \u001b[38;5;124mf\u001b[39m\u001b[38;5;124m'\u001b[39m\u001b[38;5;132;01m{\u001b[39;00murl\u001b[38;5;132;01m}\u001b[39;00m\u001b[38;5;124m/movies_letter-\u001b[39m\u001b[38;5;132;01m{\u001b[39;00mletra\u001b[38;5;241m.\u001b[39mupper()\u001b[38;5;132;01m}\u001b[39;00m\u001b[38;5;124m'\u001b[39m\n",
      "File \u001b[1;32mC:\\ProgramData\\Anaconda3\\lib\\site-packages\\ipykernel\\kernelbase.py:1262\u001b[0m, in \u001b[0;36mKernel.raw_input\u001b[1;34m(self, prompt)\u001b[0m\n\u001b[0;32m   1260\u001b[0m     msg \u001b[38;5;241m=\u001b[39m \u001b[38;5;124m\"\u001b[39m\u001b[38;5;124mraw_input was called, but this frontend does not support input requests.\u001b[39m\u001b[38;5;124m\"\u001b[39m\n\u001b[0;32m   1261\u001b[0m     \u001b[38;5;28;01mraise\u001b[39;00m StdinNotImplementedError(msg)\n\u001b[1;32m-> 1262\u001b[0m \u001b[38;5;28;01mreturn\u001b[39;00m \u001b[38;5;28;43mself\u001b[39;49m\u001b[38;5;241;43m.\u001b[39;49m\u001b[43m_input_request\u001b[49m\u001b[43m(\u001b[49m\n\u001b[0;32m   1263\u001b[0m \u001b[43m    \u001b[49m\u001b[38;5;28;43mstr\u001b[39;49m\u001b[43m(\u001b[49m\u001b[43mprompt\u001b[49m\u001b[43m)\u001b[49m\u001b[43m,\u001b[49m\n\u001b[0;32m   1264\u001b[0m \u001b[43m    \u001b[49m\u001b[38;5;28;43mself\u001b[39;49m\u001b[38;5;241;43m.\u001b[39;49m\u001b[43m_parent_ident\u001b[49m\u001b[43m[\u001b[49m\u001b[38;5;124;43m\"\u001b[39;49m\u001b[38;5;124;43mshell\u001b[39;49m\u001b[38;5;124;43m\"\u001b[39;49m\u001b[43m]\u001b[49m\u001b[43m,\u001b[49m\n\u001b[0;32m   1265\u001b[0m \u001b[43m    \u001b[49m\u001b[38;5;28;43mself\u001b[39;49m\u001b[38;5;241;43m.\u001b[39;49m\u001b[43mget_parent\u001b[49m\u001b[43m(\u001b[49m\u001b[38;5;124;43m\"\u001b[39;49m\u001b[38;5;124;43mshell\u001b[39;49m\u001b[38;5;124;43m\"\u001b[39;49m\u001b[43m)\u001b[49m\u001b[43m,\u001b[49m\n\u001b[0;32m   1266\u001b[0m \u001b[43m    \u001b[49m\u001b[43mpassword\u001b[49m\u001b[38;5;241;43m=\u001b[39;49m\u001b[38;5;28;43;01mFalse\u001b[39;49;00m\u001b[43m,\u001b[49m\n\u001b[0;32m   1267\u001b[0m \u001b[43m\u001b[49m\u001b[43m)\u001b[49m\n",
      "File \u001b[1;32mC:\\ProgramData\\Anaconda3\\lib\\site-packages\\ipykernel\\kernelbase.py:1305\u001b[0m, in \u001b[0;36mKernel._input_request\u001b[1;34m(self, prompt, ident, parent, password)\u001b[0m\n\u001b[0;32m   1302\u001b[0m \u001b[38;5;28;01mexcept\u001b[39;00m \u001b[38;5;167;01mKeyboardInterrupt\u001b[39;00m:\n\u001b[0;32m   1303\u001b[0m     \u001b[38;5;66;03m# re-raise KeyboardInterrupt, to truncate traceback\u001b[39;00m\n\u001b[0;32m   1304\u001b[0m     msg \u001b[38;5;241m=\u001b[39m \u001b[38;5;124m\"\u001b[39m\u001b[38;5;124mInterrupted by user\u001b[39m\u001b[38;5;124m\"\u001b[39m\n\u001b[1;32m-> 1305\u001b[0m     \u001b[38;5;28;01mraise\u001b[39;00m \u001b[38;5;167;01mKeyboardInterrupt\u001b[39;00m(msg) \u001b[38;5;28;01mfrom\u001b[39;00m \u001b[38;5;28;01mNone\u001b[39;00m\n\u001b[0;32m   1306\u001b[0m \u001b[38;5;28;01mexcept\u001b[39;00m \u001b[38;5;167;01mException\u001b[39;00m:\n\u001b[0;32m   1307\u001b[0m     \u001b[38;5;28mself\u001b[39m\u001b[38;5;241m.\u001b[39mlog\u001b[38;5;241m.\u001b[39mwarning(\u001b[38;5;124m\"\u001b[39m\u001b[38;5;124mInvalid Message:\u001b[39m\u001b[38;5;124m\"\u001b[39m, exc_info\u001b[38;5;241m=\u001b[39m\u001b[38;5;28;01mTrue\u001b[39;00m)\n",
      "\u001b[1;31mKeyboardInterrupt\u001b[0m: Interrupted by user"
     ]
    }
   ],
   "source": [
    "#links\n",
    "letra = 'aux variable'\n",
    "while len(letra) != 1:\n",
    "    letra = input('Escolha a letra inicial dos filmes (A-Z) que quer coletar:\\n')\n",
    "\n",
    "url = 'https://subslikescript.com'\n",
    "listagem = f'{url}/movies_letter-{letra.upper()}'\n",
    "\n",
    "# Coletando site\n",
    "html_site = requests.get(listagem, headers = headers)\n",
    "saida = BeautifulSoup(html_site.text, 'html.parser')\n",
    "\n",
    "ult_pag = saida.find('ul', class_ = 'pagination').find_all('li', class_ = 'page-item')[-2]\n",
    "ult_pag = int(ult_pag.text)\n",
    "\n",
    "#Inicializando df\n",
    "dataframe_paginado = pd.DataFrame(columns = ['Title', 'Script'])\n",
    "    \n",
    "for page in range(1, ult_pag+1,1):\n",
    "    pagina = f'{listagem}/?page={page}'\n",
    "    html_site = requests.get(pagina, headers = headers)\n",
    "    saida = BeautifulSoup(html_site.text, 'html.parser')\n",
    "    \n",
    "    # Extraíndo links das páginas:\n",
    "    caixa = saida.find('ul', class_ = 'scripts-list')\n",
    "    hiperlinks = caixa.find_all('a', href = True)\n",
    "    \n",
    "    #Gravando path completo:\n",
    "    links = [url + a['href'] for a in hiperlinks]\n",
    "    \n",
    "    #Scrapping sites\n",
    "    for url_hiperlink in links:\n",
    "        # Obtendo html de cada site\n",
    "        try:\n",
    "            result  = requests.get(url = url_hiperlink, headers = headers)\n",
    "            result = result.text\n",
    "            \n",
    "        except Exception as e:\n",
    "            print(f'Falha na coleta em \\n{url_hiperlink}')\n",
    "            print(f'Erro: {e}')\n",
    "        else:\n",
    "            soup = BeautifulSoup(result, 'lxml')\n",
    "            title = soup.find('article', class_ = 'main-article').find('h1').get_text(strip = True)\n",
    "            script = soup.find('div', class_ = 'full-script').get_text(strip=True, separator = ' ')\n",
    "            temp_df = pd.DataFrame(data = {'Title': [title.split(' -')[0]], 'Script': [script.split('---',1)[1]]})\n",
    "    \n",
    "            dataframe_paginado = pd.concat([dataframe, temp_df], axis = 0,  ignore_index = True)\n"
   ]
  }
 ],
 "metadata": {
  "kernelspec": {
   "display_name": "Python 3 (ipykernel)",
   "language": "python",
   "name": "python3"
  },
  "language_info": {
   "codemirror_mode": {
    "name": "ipython",
    "version": 3
   },
   "file_extension": ".py",
   "mimetype": "text/x-python",
   "name": "python",
   "nbconvert_exporter": "python",
   "pygments_lexer": "ipython3",
   "version": "3.8.18"
  }
 },
 "nbformat": 4,
 "nbformat_minor": 5
}
