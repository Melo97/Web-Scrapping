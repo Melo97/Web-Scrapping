{
 "cells": [
  {
   "cell_type": "markdown",
   "id": "aaec777b-b359-44a7-a590-18dd76392bfb",
   "metadata": {},
   "source": [
    "# Coletando Ofertas do dia com BeautifulSoup"
   ]
  },
  {
   "cell_type": "markdown",
   "id": "f53126d7-690a-4ef0-a2c2-5bcd62dab14c",
   "metadata": {},
   "source": [
    "## 1. Pacotes"
   ]
  },
  {
   "cell_type": "code",
   "execution_count": 72,
   "id": "84817903-6f69-438e-bd40-0d1a8b317526",
   "metadata": {},
   "outputs": [],
   "source": [
    "import numpy as np\n",
    "import pandas as pd\n",
    "from bs4 import BeautifulSoup\n",
    "import requests"
   ]
  },
  {
   "cell_type": "markdown",
   "id": "f208c00c-de29-4abf-877a-e5e1fcf2468a",
   "metadata": {},
   "source": [
    "## 2. Definindo Web Crawler:"
   ]
  },
  {
   "cell_type": "code",
   "execution_count": 76,
   "id": "e118bd6e-b822-4de3-a139-af52b999a0af",
   "metadata": {
    "collapsed": true,
    "jupyter": {
     "outputs_hidden": true
    }
   },
   "outputs": [
    {
     "name": "stdout",
     "output_type": "stream",
     "text": [
      "Processo finalizado! Pags Coletadas:  1\n",
      "Processo finalizado! Pags Coletadas:  2\n",
      "Processo finalizado! Pags Coletadas:  3\n",
      "Processo finalizado! Pags Coletadas:  4\n",
      "Processo finalizado! Pags Coletadas:  5\n",
      "Processo finalizado! Pags Coletadas:  6\n",
      "Processo finalizado! Pags Coletadas:  7\n",
      "Processo finalizado! Pags Coletadas:  8\n",
      "Processo finalizado! Pags Coletadas:  9\n",
      "Processo finalizado! Pags Coletadas:  9\n"
     ]
    },
    {
     "ename": "AttributeError",
     "evalue": "'NoneType' object has no attribute 'find'",
     "output_type": "error",
     "traceback": [
      "\u001b[1;31m---------------------------------------------------------------------------\u001b[0m",
      "\u001b[1;31mAttributeError\u001b[0m                            Traceback (most recent call last)",
      "Cell \u001b[1;32mIn[76], line 37\u001b[0m\n\u001b[0;32m     33\u001b[0m \u001b[38;5;28;01mfor\u001b[39;00m i \u001b[38;5;129;01min\u001b[39;00m \u001b[38;5;28mrange\u001b[39m(\u001b[38;5;241m0\u001b[39m,\u001b[38;5;28mlen\u001b[39m(container), \u001b[38;5;241m1\u001b[39m):\n\u001b[0;32m     34\u001b[0m     title\u001b[38;5;241m.\u001b[39mappend(container[i]\u001b[38;5;241m.\u001b[39mfind(\u001b[38;5;124m'\u001b[39m\u001b[38;5;124mp\u001b[39m\u001b[38;5;124m'\u001b[39m, class_ \u001b[38;5;241m=\u001b[39m\u001b[38;5;124m'\u001b[39m\u001b[38;5;124mpromotion-item__title\u001b[39m\u001b[38;5;124m'\u001b[39m)\u001b[38;5;241m.\u001b[39mget_text())\n\u001b[0;32m     36\u001b[0m     preco_cheio\u001b[38;5;241m.\u001b[39mappend(\n\u001b[1;32m---> 37\u001b[0m         \u001b[43mdiscount_component\u001b[49m\u001b[43m[\u001b[49m\u001b[43mi\u001b[49m\u001b[43m]\u001b[49m\u001b[38;5;241;43m.\u001b[39;49m\u001b[43mfind\u001b[49m\u001b[43m(\u001b[49m\u001b[38;5;124;43m'\u001b[39;49m\u001b[38;5;124;43ms\u001b[39;49m\u001b[38;5;124;43m'\u001b[39;49m\u001b[43m,\u001b[49m\u001b[43m \u001b[49m\u001b[43mclass_\u001b[49m\u001b[38;5;241;43m=\u001b[39;49m\u001b[43m \u001b[49m\u001b[38;5;124;43m'\u001b[39;49m\u001b[38;5;124;43mandes-money-amount andes-money-amount-combo__previous-value andes-money-amount--previous andes-money-amount--cents-superscript\u001b[39;49m\u001b[38;5;124;43m'\u001b[39;49m\u001b[43m)\u001b[49m\u001b[38;5;241;43m.\u001b[39;49m\u001b[43mfind\u001b[49m(\u001b[38;5;124m'\u001b[39m\u001b[38;5;124mspan\u001b[39m\u001b[38;5;124m'\u001b[39m, class_\u001b[38;5;241m=\u001b[39m \u001b[38;5;124m'\u001b[39m\u001b[38;5;124mandes-money-amount__fraction\u001b[39m\u001b[38;5;124m'\u001b[39m)\u001b[38;5;241m.\u001b[39mget_text()\n\u001b[0;32m     38\u001b[0m     )\n\u001b[0;32m     40\u001b[0m     preco_real\u001b[38;5;241m.\u001b[39mappend(\n\u001b[0;32m     41\u001b[0m         discount_component[i]\u001b[38;5;241m.\u001b[39mfind(\u001b[38;5;124m'\u001b[39m\u001b[38;5;124mdiv\u001b[39m\u001b[38;5;124m'\u001b[39m, class_\u001b[38;5;241m=\u001b[39m \u001b[38;5;124m'\u001b[39m\u001b[38;5;124mandes-money-amount-combo__main-container\u001b[39m\u001b[38;5;124m'\u001b[39m)\u001b[38;5;241m.\u001b[39mfind(\u001b[38;5;124m'\u001b[39m\u001b[38;5;124mspan\u001b[39m\u001b[38;5;124m'\u001b[39m, class_\u001b[38;5;241m=\u001b[39m \u001b[38;5;124m'\u001b[39m\u001b[38;5;124mandes-money-amount__fraction\u001b[39m\u001b[38;5;124m'\u001b[39m)\u001b[38;5;241m.\u001b[39mget_text()\n\u001b[0;32m     42\u001b[0m     )\n\u001b[0;32m     44\u001b[0m     desconto_perc\u001b[38;5;241m.\u001b[39mappend(discount_component[i]\u001b[38;5;241m.\u001b[39mfind(\u001b[38;5;124m'\u001b[39m\u001b[38;5;124mspan\u001b[39m\u001b[38;5;124m'\u001b[39m, class_ \u001b[38;5;241m=\u001b[39m \u001b[38;5;124m'\u001b[39m\u001b[38;5;124mpromotion-item__discount-text\u001b[39m\u001b[38;5;124m'\u001b[39m)\u001b[38;5;241m.\u001b[39mget_text())\n",
      "\u001b[1;31mAttributeError\u001b[0m: 'NoneType' object has no attribute 'find'"
     ]
    }
   ],
   "source": [
    "#definindo site\n",
    "url = 'https://www.mercadolivre.com.br'\n",
    "ofertas_dia = f'{url}/ofertas#c_id=/home/today-promotion-recommendations'\n",
    "\n",
    "#Trazendo user-agent\n",
    "head = {'User-Agent': \n",
    "        'Mozilla/5.0 (Linux; Android 6.0; Nexus 5 Build/MRA58N) AppleWebKit/537.36 (KHTML, like Gecko) Chrome/126.0.0.0 Mobile Safari/537.36'}\n",
    "\n",
    "#Inicializando listas:\n",
    "title = []\n",
    "preco_cheio = []\n",
    "preco_real =[]\n",
    "desconto_perc = []\n",
    "df = pd.DataFrame( columns = ['produto', 'preco_cheio','preco_com_desconto', '%desconto'])\n",
    "\n",
    "#definindo num de paginas para coletar\n",
    "n = 10\n",
    "pags_scp = 0\n",
    "for p in range(1,n+1,1):\n",
    "    try:\n",
    "        pagina = f'https://www.mercadolivre.com.br/ofertas?container_id=MLB779362-1&page={p}'\n",
    "        results = requests.get(pagina, headers = head)\n",
    "        saida = BeautifulSoup(results.text, 'lxml')\n",
    "        \n",
    "    except Exception as e:\n",
    "        print('Exception: ', e)\n",
    "        \n",
    "    else:\n",
    "        #Conteiners:\n",
    "        container = saida.find('ol', class_ = 'items_container').find_all('li', class_ = 'promotion-item')\n",
    "        discount_component = saida.find_all('div', class_ = 'promotion-item__discount-component')\n",
    "        \n",
    "        for i in range(0,len(container), 1):\n",
    "            try:\n",
    "                title.append(container[i].find('p', class_ ='promotion-item__title').get_text())\n",
    "            \n",
    "                preco_cheio.append(\n",
    "                    discount_component[i].find('s', class_= 'andes-money-amount andes-money-amount-combo__previous-value andes-money-amount--previous andes-money-amount--cents-superscript').find('span', class_= 'andes-money-amount__fraction').get_text()\n",
    "                )\n",
    "                \n",
    "                preco_real.append(\n",
    "                    discount_component[i].find('div', class_= 'andes-money-amount-combo__main-container').find('span', class_= 'andes-money-amount__fraction').get_text()\n",
    "                )\n",
    "                \n",
    "                desconto_perc.append(discount_component[i].find('span', class_ = 'promotion-item__discount-text').get_text())\n",
    "            \n",
    "                #ajustando preços:\n",
    "                #preco_real = [float(num.replace('.', '')) for num in preco_real]\n",
    "                #preco_cheio= [float(num.replace('.', '')) for num in preco_cheio]\n",
    "            except Exception as e2:\n",
    "                print('erro tipo ', e2)\n",
    "            finally:\n",
    "            #Criando df de preços\n",
    "            df_pag = pd.DataFrame(np.array([title, preco_cheio, preco_real, desconto_perc]).T, columns = ['produto', 'preco_cheio','preco_com_desconto', '%desconto'])\n",
    "            \n",
    "            #empilhando informações de pags anteriores\n",
    "            df = pd.concat([df,df_pag], axis = 0,  ignore_index = True)\n",
    "        #Atualizando contador\n",
    "        pags_scp+=1\n",
    "    finally:\n",
    "        print('Processo finalizado! Pags Coletadas: ', pags_scp)"
   ]
  },
  {
   "cell_type": "markdown",
   "id": "f19e09a0-af89-42c9-b95e-7a9b49ad9db8",
   "metadata": {},
   "source": [
    "## 3. Inserindo coletas no banco de dados (Oracle)"
   ]
  },
  {
   "cell_type": "code",
   "execution_count": 79,
   "id": "dc947ac0-65f9-49c2-b197-02a52a34d19e",
   "metadata": {
    "collapsed": true,
    "jupyter": {
     "outputs_hidden": true
    }
   },
   "outputs": [
    {
     "ename": "ModuleNotFoundError",
     "evalue": "No module named 'oracledb'",
     "output_type": "error",
     "traceback": [
      "\u001b[1;31m---------------------------------------------------------------------------\u001b[0m",
      "\u001b[1;31mModuleNotFoundError\u001b[0m                       Traceback (most recent call last)",
      "Cell \u001b[1;32mIn[79], line 2\u001b[0m\n\u001b[0;32m      1\u001b[0m \u001b[38;5;66;03m# definindo rotina p/ carregar no sql:\u001b[39;00m\n\u001b[1;32m----> 2\u001b[0m \u001b[38;5;28;01mimport\u001b[39;00m \u001b[38;5;21;01moracledb\u001b[39;00m\n",
      "\u001b[1;31mModuleNotFoundError\u001b[0m: No module named 'oracledb'"
     ]
    }
   ],
   "source": [
    "import oracledb\n",
    "from datetime import datetime\n",
    "# definindo rotina p/ carregar no sql:\n",
    "\n",
    "# definindo queries:\n",
    "query = [\n",
    "    f'''INSERT INTO COMPETITORS_DAILY_OFFERS(produto, preco_cheio, preco_com_desconto, %desconto, dt_oferta) VALUES {', '.join(df.iloc[c,:])},{date.today().strftime(format = '%d-%m-%y')}'''\n",
    "    for c in df.index\n",
    "]\n",
    "\n",
    "try:\n",
    "    con = oracledb.connect(\n",
    "        user = input('user')\n",
    "        password = input('pwd')\n",
    "        dsn = input('dsn')\n",
    "    )\n",
    "\n",
    "    cursor = con.cursor()\n",
    "    \n",
    "\n",
    "except Exception as e3:\n",
    "    print('falha na conexão devido a ', e3)\n",
    "\n",
    "else:\n",
    "    for r in df.index:\n",
    "        cursor.execute(query[r])\n",
    "    # Commitando inclusões\n",
    "\n",
    "    cursor.execute('commit')\n",
    "finally:\n",
    "    con.close()\n",
    "    print('conexão fechada')"
   ]
  }
 ],
 "metadata": {
  "kernelspec": {
   "display_name": "Python 3 (ipykernel)",
   "language": "python",
   "name": "python3"
  },
  "language_info": {
   "codemirror_mode": {
    "name": "ipython",
    "version": 3
   },
   "file_extension": ".py",
   "mimetype": "text/x-python",
   "name": "python",
   "nbconvert_exporter": "python",
   "pygments_lexer": "ipython3",
   "version": "3.8.18"
  }
 },
 "nbformat": 4,
 "nbformat_minor": 5
}
